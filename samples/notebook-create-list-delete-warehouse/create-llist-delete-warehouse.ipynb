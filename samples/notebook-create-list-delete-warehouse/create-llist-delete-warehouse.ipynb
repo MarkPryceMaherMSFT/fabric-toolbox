{
 "cells": [
  {
   "cell_type": "code",
   "execution_count": null,
   "id": "64c0e7fb-eff6-4544-aa5f-2b80354243ae",
   "metadata": {
    "microsoft": {
     "language": "python",
     "language_group": "synapse_pyspark"
    }
   },
   "outputs": [],
   "source": [
    "# details from Article : https://learn.microsoft.com/en-us/fabric/data-warehouse/collation\n",
    "# default collation is Latin1_General_100_BIN2_UTF8\n",
    "# new collation is Latin1_General_100_CI_AS_KS_WS_SC_UTF8\n",
    "\n",
    "#REST API : https://learn.microsoft.com/en-us/rest/api/fabric/warehouse/items/create-warehouse?tabs=HTTP\n",
    "\n",
    "#sempy version 0.4.0 or higher\n",
    "!pip install semantic-link --q \n",
    "import json\n",
    "import sempy.fabric as fabric\n",
    "from sempy.fabric.exceptions import FabricHTTPException, WorkspaceNotFoundException\n",
    "\n",
    "workspace_id=spark.conf.get(\"trident.workspace.id\")\n",
    "\n",
    "#Instantiate the client\n",
    "client = fabric.FabricRestClient()\n",
    "\n",
    "uri = f\"https://api.fabric.microsoft.com/v1/workspaces/{workspace_id}/items\"\n",
    "payload = { \n",
    "  \"type\": \"Warehouse\", \n",
    "  \"displayName\": \"marktest\", \n",
    "  \"description\": \"New warehouse with case-insensitive collation\", \n",
    "  \"creationPayload\": { \n",
    "    \"defaultCollation\": \"Latin1_General_100_CI_AS_KS_WS_SC_UTF8\" \n",
    "  } \n",
    "}\n",
    "\n",
    "# Call the REST API\n",
    "response = client.post(uri,json= payload)\n",
    "display(response)\n",
    "\n",
    "#data = json.loads(response.text)\n",
    "#display(data)"
   ]
  },
  {
   "cell_type": "code",
   "execution_count": null,
   "id": "41e98e7c-42fc-4521-b7e5-6db5a1656143",
   "metadata": {
    "collapsed": false,
    "jupyter": {
     "outputs_hidden": false,
     "source_hidden": false
    },
    "microsoft": {
     "language": "python",
     "language_group": "synapse_pyspark"
    },
    "nteract": {
     "transient": {
      "deleting": false
     }
    }
   },
   "outputs": [],
   "source": [
    "# RESPI API : https://learn.microsoft.com/en-us/rest/api/fabric/warehouse/items/list-warehouses?tabs=HTTP\n",
    "\n",
    "import json\n",
    "import sempy.fabric as fabric\n",
    "from sempy.fabric.exceptions import FabricHTTPException, WorkspaceNotFoundException\n",
    "import time\n",
    "target_displayname = 'marktest'\n",
    "\n",
    "workspace_id=spark.conf.get(\"trident.workspace.id\")\n",
    "\n",
    "#Instantiate the client\n",
    "client = fabric.FabricRestClient()\n",
    "\n",
    "statusuri = f\"https://api.fabric.microsoft.com/v1/workspaces/{workspace_id}/warehouses\"\n",
    "matching_id = None\n",
    "\n",
    "while(matching_id is None):\n",
    "    statusresponsedata = client.get(statusuri).json()\n",
    "    datar = statusresponsedata['value']\n",
    "    for item in datar:\n",
    "        whName = item['displayName']\n",
    "        if whName == target_displayname:\n",
    "            matching_id = item['id']\n",
    "            break\n",
    "    \n",
    "    display(\"Waiting....\")\n",
    "    time.sleep(1)\n",
    "\n",
    "display(f\"Warehouse id is {matching_id}\")\n",
    "display(\"Warehouse details:\")\n",
    "print(item)"
   ]
  },
  {
   "cell_type": "code",
   "execution_count": null,
   "id": "49901dcb-bdd1-4036-920c-42bccf023638",
   "metadata": {
    "jupyter": {
     "outputs_hidden": false,
     "source_hidden": false
    },
    "microsoft": {
     "language": "python",
     "language_group": "synapse_pyspark"
    },
    "nteract": {
     "transient": {
      "deleting": false
     }
    }
   },
   "outputs": [],
   "source": [
    "# RESPI API : https://learn.microsoft.com/en-us/rest/api/fabric/warehouse/items/get-warehouse?tabs=HTTP\n",
    "\n",
    "import json\n",
    "import sempy.fabric as fabric\n",
    "from sempy.fabric.exceptions import FabricHTTPException, WorkspaceNotFoundException\n",
    "\n",
    "workspace_id=spark.conf.get(\"trident.workspace.id\")\n",
    "\n",
    "#Instantiate the client\n",
    "client = fabric.FabricRestClient()\n",
    "\n",
    "#matchind_id = 'bd3bb97e-8255-4b33-8ac2-8f63ec53fd23' \n",
    "\n",
    "statusuri = f\"https://api.fabric.microsoft.com/v1/workspaces/{workspace_id}/warehouses/{matching_id}\"\n",
    "\n",
    "statusresponsedata = client.get(statusuri).json()\n",
    "display(statusresponsedata)\n",
    "\n"
   ]
  },
  {
   "cell_type": "code",
   "execution_count": null,
   "id": "0c9a011d-e4c9-4365-8f93-9cc3927d768e",
   "metadata": {
    "jupyter": {
     "outputs_hidden": false,
     "source_hidden": false
    },
    "microsoft": {
     "language": "python",
     "language_group": "synapse_pyspark"
    },
    "nteract": {
     "transient": {
      "deleting": false
     }
    }
   },
   "outputs": [],
   "source": [
    "# REST API: https://learn.microsoft.com/en-us/rest/api/fabric/warehouse/items/delete-warehouse?tabs=HTTP\n",
    "\n",
    "import json\n",
    "import sempy.fabric as fabric\n",
    "from sempy.fabric.exceptions import FabricHTTPException, WorkspaceNotFoundException\n",
    "\n",
    "workspace_id=spark.conf.get(\"trident.workspace.id\")\n",
    "#Instantiate the client\n",
    "client = fabric.FabricRestClient()\n",
    "\n",
    "uri = f\"https://api.fabric.microsoft.com/v1/workspaces/{workspace_id}/warehouses/{matching_id}\"\n",
    "\n",
    "\n",
    "# Call the REST API\n",
    "response = client.delete(uri)\n",
    "display(response)\n"
   ]
  }
 ],
 "metadata": {
  "dependencies": {},
  "kernel_info": {
   "name": "synapse_pyspark"
  },
  "kernelspec": {
   "display_name": "Synapse PySpark",
   "language": "Python",
   "name": "synapse_pyspark"
  },
  "language_info": {
   "name": "python"
  },
  "microsoft": {
   "language": "python",
   "language_group": "synapse_pyspark",
   "ms_spell_check": {
    "ms_spell_check_language": "en"
   }
  },
  "nteract": {
   "version": "nteract-front-end@1.0.0"
  },
  "spark_compute": {
   "compute_id": "/trident/default",
   "session_options": {
    "conf": {
     "spark.synapse.nbs.session.timeout": "1200000"
    }
   }
  },
  "synapse_widget": {
   "state": {},
   "version": "0.1"
  }
 },
 "nbformat": 4,
 "nbformat_minor": 5
}
